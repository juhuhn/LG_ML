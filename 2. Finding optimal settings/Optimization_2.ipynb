{
 "cells": [
  {
   "cell_type": "markdown",
   "metadata": {},
   "source": [
    "# Importing Packages"
   ]
  },
  {
   "cell_type": "code",
   "execution_count": null,
   "metadata": {},
   "outputs": [],
   "source": [
    "import os\n",
    "os.chdir('/content/LG_ML_tutorial/2. Finding optimal settings')"
   ]
  },
  {
   "cell_type": "code",
   "execution_count": 41,
   "metadata": {},
   "outputs": [],
   "source": [
    "import numpy as np\n",
    "import matplotlib.pyplot as plt\n",
    "import pandas as pd\n",
    "\n",
    "from sklearn.neural_network import MLPRegressor\n",
    "from sklearn.preprocessing import MinMaxScaler"
   ]
  },
  {
   "cell_type": "markdown",
   "metadata": {},
   "source": [
    "# Diamond dataset\n",
    "\n",
    "Data from https://www.adiamor.com/Diamonds/Search\n",
    "\n",
    "2,690 observations\n",
    "\n",
    "+ predictors\n",
    "   + carat.size: numeric\n",
    "   + color: ordinal, 0 ~ 7 (colorless to nearly colorless)\n",
    "   + clarity: ordinal, 0 ~ 6 (internally flawless to slightly included)\n",
    "   + cut: ordinal, 0 ~ 3 (ideal to good)   \n",
    "+ response\n",
    "   + price: diamond price"
   ]
  },
  {
   "cell_type": "markdown",
   "metadata": {},
   "source": [
    "## The optimization problem we have to solve in real life is like below.\n",
    "You would like to purchase a diamond.\n",
    "\n",
    "Your budget is 400 USD.\n",
    "\n",
    "She wants that the color of diamond should be at level of 1.\n",
    "\n",
    "She wants that the clarity of diamond should be at level of 2.\n",
    "\n",
    "**(Question) What size and which cut level of diamond can you purchase?**\n"
   ]
  },
  {
   "cell_type": "code",
   "execution_count": 42,
   "metadata": {},
   "outputs": [],
   "source": [
    "diamond = pd.read_csv('diamond.csv')\n",
    "\n",
    "min_max_scaler = MinMaxScaler()\n",
    "diamond_norm = min_max_scaler.fit_transform(diamond)\n",
    "\n",
    "mins = min_max_scaler.data_min_\n",
    "maxs = min_max_scaler.data_max_"
   ]
  },
  {
   "cell_type": "code",
   "execution_count": 48,
   "metadata": {},
   "outputs": [
    {
     "data": {
      "text/plain": [
       "MLPRegressor(alpha=1e-05, hidden_layer_sizes=(6, 6))"
      ]
     },
     "execution_count": 48,
     "metadata": {},
     "output_type": "execute_result"
    }
   ],
   "source": [
    "# -------------------------------------------------------------------------- #\n",
    "# response estimation using neural network\n",
    "# -------------------------------------------------------------------------- #\n",
    "model = MLPRegressor(solver='adam', alpha=1e-5, hidden_layer_sizes=(6, 6))\n",
    "\n",
    "X = diamond_norm[:,:-1]\n",
    "Y = diamond_norm[:,-1]\n",
    "\n",
    "model.fit(X,Y)"
   ]
  },
  {
   "cell_type": "code",
   "execution_count": 49,
   "metadata": {},
   "outputs": [],
   "source": [
    "price_hat = model.predict(X)\n",
    "orig_price_hat = price_hat * (maxs[4]-mins[4]) + mins[4]\n",
    "orig_price = np.array(diamond['price'])\n",
    "R2 = 1-np.sum((orig_price-orig_price_hat)**2)/np.sum((orig_price-np.mean(orig_price_hat))**2) # R-squared"
   ]
  },
  {
   "cell_type": "code",
   "execution_count": 50,
   "metadata": {},
   "outputs": [],
   "source": [
    "# -------------------------------------------------------------------------- #\n",
    "# optimization problem example\n",
    "#       1. You want to purchase a diamond.\n",
    "#       2. Your budget is 400 USD.\n",
    "#       3. The color of your diamond should be at level of 1.\n",
    "#       4. The clarity of your diamond should be at level of 2.\n",
    "#       Q. What size and which cut level of diamond can you purchase?\n",
    "# -------------------------------------------------------------------------- #\n",
    "\n",
    "target_norm = (400-mins[4])/(maxs[4]-mins[4])  # 400 USD\n",
    "color_norm = (1-mins[1])/(maxs[1]-mins[1])  # color level is 1 (given)\n",
    "clarity_norm = (2-mins[2])/(maxs[2]-mins[2]) # clarity level is 2 (given)"
   ]
  },
  {
   "cell_type": "code",
   "execution_count": 52,
   "metadata": {},
   "outputs": [],
   "source": [
    "sample_row = diamond_norm[0,:-1]\n",
    "sample_row[1] = color_norm\n",
    "sample_row[2] = clarity_norm"
   ]
  },
  {
   "cell_type": "code",
   "execution_count": 54,
   "metadata": {},
   "outputs": [],
   "source": [
    "# -------------------------------------------------------------------------------------- #\n",
    "# loss function\n",
    "#   input\n",
    "#              model: prediction model\n",
    "#       x.values.all: predictor variable values, some of those are given,\n",
    "#                     those corresponding to idx will change during optimization procedure\n",
    "#             target: we want to get x.opt values such that the response reaches at this value\n",
    "#              x.opt: predictor variable values to be optimized\n",
    "#                idx: indices corresponding to x.opt variables\n",
    "#\n",
    "#   output\n",
    "#               loss: loss function value (we want to minimize this)\n",
    "#\n",
    "# CREATED 12/16/2018\n",
    "# -------------------------------------------------------------------------------------- #\n",
    "\n",
    "def loss_fun(x_opt, model, x_values_all, target, idx ):\n",
    "  x_values_all[:,idx] = x_opt\n",
    "  pred = model.predict( x_values_all )\n",
    "  loss = (pred - target)**2 # squared loss function\n",
    "  return(loss)"
   ]
  },
  {
   "cell_type": "code",
   "execution_count": 55,
   "metadata": {},
   "outputs": [],
   "source": [
    "from scipy import optimize\n",
    "\n",
    "x0 = np.random.uniform(0,1,2).reshape(1, -1)\n",
    "sample_row = sample_row.reshape(1, -1)\n",
    "bounds = optimize.Bounds([0,0],[1,1])\n",
    "res = optimize.minimize(loss_fun,x0,args=(model,sample_row,target_norm,np.array([0,3])),method='L-BFGS-B', bounds=bounds,options={'disp': True})"
   ]
  },
  {
   "cell_type": "code",
   "execution_count": 58,
   "metadata": {},
   "outputs": [
    {
     "name": "stdout",
     "output_type": "stream",
     "text": [
      "[399.99999141]\n",
      "[0.6807781857498151, 0.17297610489451848]\n"
     ]
    }
   ],
   "source": [
    "sample_row[:,0] = res.x[0]\n",
    "sample_row[:,3] = res.x[1]\n",
    "target_hat = model.predict(sample_row)\n",
    "orig_target_hat = target_hat* (maxs[4]-mins[4]) + mins[4]\n",
    "print(orig_target_hat)\n",
    "# ** we can see that the price is 400 at the optimal solution, which means that we correctly found the optimal solution\n",
    "\n",
    "\n",
    "# answer to the question Q\n",
    "opt_carat_size = res.x[0] * (maxs[0]-mins[0]) + mins[0] # carat size in original scale\n",
    "opt_cut = res.x[1] * (maxs[3]-mins[3]) + mins[3] # cut in original scale\n",
    "\n",
    "print([opt_carat_size,opt_cut])"
   ]
  }
 ],
 "metadata": {
  "kernelspec": {
   "display_name": "Python 3",
   "language": "python",
   "name": "python3"
  },
  "language_info": {
   "codemirror_mode": {
    "name": "ipython",
    "version": 3
   },
   "file_extension": ".py",
   "mimetype": "text/x-python",
   "name": "python",
   "nbconvert_exporter": "python",
   "pygments_lexer": "ipython3",
   "version": "3.9.13"
  },
  "orig_nbformat": 2
 },
 "nbformat": 4,
 "nbformat_minor": 2
}

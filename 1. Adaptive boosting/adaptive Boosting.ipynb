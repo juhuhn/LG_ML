{
 "cells": [
  {
   "cell_type": "markdown",
   "metadata": {
    "collapsed": false
   },
   "source": [
    "## 1.Adaboost"
   ]
  },
  {
   "cell_type": "code",
   "execution_count": 10,
   "metadata": {},
   "outputs": [
    {
     "ename": "FileNotFoundError",
     "evalue": "[WinError 3] 지정된 경로를 찾을 수 없습니다: '/content/LG_ML_tutorial/1. Adaptive boosting'",
     "output_type": "error",
     "traceback": [
      "\u001b[1;31m---------------------------------------------------------------------------\u001b[0m",
      "\u001b[1;31mFileNotFoundError\u001b[0m                         Traceback (most recent call last)",
      "\u001b[1;32mc:\\Users\\HH\\Desktop\\LG_ML_tutorial\\1. Adaptive boosting\\adaptive Boosting.ipynb Cell 2\u001b[0m in \u001b[0;36m<cell line: 2>\u001b[1;34m()\u001b[0m\n\u001b[0;32m      <a href='vscode-notebook-cell:/c%3A/Users/HH/Desktop/LG_ML_tutorial/1.%20Adaptive%20boosting/adaptive%20Boosting.ipynb#W1sZmlsZQ%3D%3D?line=0'>1</a>\u001b[0m \u001b[39mimport\u001b[39;00m \u001b[39mos\u001b[39;00m\n\u001b[1;32m----> <a href='vscode-notebook-cell:/c%3A/Users/HH/Desktop/LG_ML_tutorial/1.%20Adaptive%20boosting/adaptive%20Boosting.ipynb#W1sZmlsZQ%3D%3D?line=1'>2</a>\u001b[0m os\u001b[39m.\u001b[39;49mchdir(\u001b[39m'\u001b[39;49m\u001b[39m/content/LG_ML_tutorial/1. Adaptive boosting\u001b[39;49m\u001b[39m'\u001b[39;49m)\n",
      "\u001b[1;31mFileNotFoundError\u001b[0m: [WinError 3] 지정된 경로를 찾을 수 없습니다: '/content/LG_ML_tutorial/1. Adaptive boosting'"
     ]
    }
   ],
   "source": [
    "import os\n",
    "os.chdir('/content/LG_ML_tutorial/1. Adaptive boosting')"
   ]
  },
  {
   "cell_type": "markdown",
   "metadata": {
    "collapsed": false,
    "pycharm": {
     "name": "#%% md\n"
    }
   },
   "source": [
    "#### (1) Importing packages"
   ]
  },
  {
   "cell_type": "code",
   "execution_count": 12,
   "metadata": {
    "collapsed": true
   },
   "outputs": [],
   "source": [
    "import numpy as np\n",
    "import pandas as pd\n",
    "import matplotlib.pyplot as plt\n",
    "from sklearn.model_selection import train_test_split\n",
    "from sklearn.tree import DecisionTreeClassifier\n",
    "from sklearn.metrics import confusion_matrix"
   ]
  },
  {
   "cell_type": "markdown",
   "metadata": {
    "collapsed": false
   },
   "source": [
    "#### (2) Load dataset for implementation\n",
    "###### - load PimaIndianDiabetes dataset and split"
   ]
  },
  {
   "cell_type": "code",
   "execution_count": 13,
   "metadata": {
    "collapsed": false,
    "pycharm": {
     "name": "#%%\n"
    }
   },
   "outputs": [],
   "source": [
    "PimaIndiansDiabetes = pd.read_csv(\"PimaIndiansDiabetes.csv\")\n",
    "\n",
    "PimaIndiansDiabetes_X = PimaIndiansDiabetes.drop(columns=['diabetes'])\n",
    "PimaIndiansDiabetes_Y = PimaIndiansDiabetes['diabetes']\n",
    "\n",
    "n_train = 400\n",
    "\n",
    "dia_train_X, dia_test_X, dia_train_Y, dia_test_Y = train_test_split(PimaIndiansDiabetes_X, PimaIndiansDiabetes_Y, train_size=n_train)"
   ]
  },
  {
   "cell_type": "markdown",
   "metadata": {
    "collapsed": false
   },
   "source": [
    "#### (3) Examples before initial settings"
   ]
  },
  {
   "cell_type": "code",
   "execution_count": 14,
   "metadata": {
    "collapsed": false,
    "pycharm": {
     "name": "#%%\n"
    }
   },
   "outputs": [
    {
     "name": "stdout",
     "output_type": "stream",
     "text": [
      "confusion matrix = \n",
      " [[243  20]\n",
      " [ 28 109]]\n",
      "bst =  0.12\n"
     ]
    }
   ],
   "source": [
    "wgt = np.repeat(1/400, 400)\n",
    "\n",
    "dia_rp = DecisionTreeClassifier(max_depth=30, min_samples_split=20)\n",
    "dia_rp.fit(dia_train_X, dia_train_Y, sample_weight=wgt)\n",
    "\n",
    "ci = dia_rp.predict(dia_train_X)\n",
    "\n",
    "x = confusion_matrix(dia_train_Y, ci)\n",
    "print(\"confusion matrix = \\n\", x)\n",
    "\n",
    "x_bst = 1-np.diag(x).sum()/np.sum(x)\n",
    "print(\"bst = \", 1-np.diag(x).sum()/np.sum(x))"
   ]
  },
  {
   "cell_type": "markdown",
   "metadata": {
    "collapsed": false
   },
   "source": [
    "#### (4) Learning Adaboost"
   ]
  },
  {
   "cell_type": "code",
   "execution_count": 15,
   "metadata": {
    "collapsed": false,
    "pycharm": {
     "name": "#%%\n"
    }
   },
   "outputs": [
    {
     "name": "stdout",
     "output_type": "stream",
     "text": [
      "iteration  1  :  0.12   0.996215082345103\n",
      "iteration  2  :  0.22250000000000003   0.8540547199705648\n",
      "iteration  3  :  0.15749999999999997   1.0907899800943515\n",
      "iteration  4  :  0.1975   1.0293674048694228\n",
      "iteration  5  :  0.21999999999999997   1.0883629723323969\n",
      "iteration  6  :  0.22750000000000004   1.0660235963945677\n",
      "iteration  7  :  0.23750000000000004   0.9865882777625117\n",
      "iteration  8  :  0.2025   1.066616849747163\n",
      "iteration  9  :  0.235   1.1610397424031886\n",
      "iteration  10  :  0.1725   1.304319090707937\n",
      "iteration  11  :  0.22999999999999998   1.0199114536087321\n",
      "iteration  12  :  0.20750000000000002   1.1422982260430115\n",
      "iteration  13  :  0.16749999999999998   1.3355085939265265\n",
      "iteration  14  :  0.24   1.0877643666370722\n",
      "iteration  15  :  0.22750000000000004   1.2867708578855297\n",
      "iteration  16  :  0.235   1.2107660677518315\n",
      "iteration  17  :  0.23750000000000004   1.1331287757385966\n",
      "iteration  18  :  0.1975   1.1686811384633964\n",
      "iteration  19  :  0.235   1.2644576637142184\n",
      "iteration  20  :  0.29500000000000004   1.227526456885314\n"
     ]
    }
   ],
   "source": [
    "cit = np.array([])\n",
    "ait = np.array([])\n",
    "x_bst = np.array([])\n",
    "\n",
    "iter = 20\n",
    "\n",
    "for i in range(0,iter):\n",
    "    dia_rp = DecisionTreeClassifier(max_depth=30, min_samples_split=20)\n",
    "    dia_rp.fit(dia_train_X, dia_train_Y, sample_weight=wgt)\n",
    "\n",
    "    ci = dia_rp.predict(dia_train_X)\n",
    "    cit = np.append(cit, ci).reshape(i+1,-1)\n",
    "\n",
    "    x = confusion_matrix(dia_train_Y, ci)\n",
    "    x_bst = np.append(x_bst, 1-np.diag(x).sum()/np.sum(x))\n",
    "\n",
    "    ai = 0.5 * np.log(wgt[ci == dia_train_Y].sum()/wgt[ci != dia_train_Y].sum())\n",
    "    ait = np.append(ait, ai)\n",
    "\n",
    "    zt = np.sum(wgt * np.exp(-ai * np.sign(1*np.array(ci == dia_train_Y)-0.5)))\n",
    "    wgt = wgt * np.exp(-ai * np.sign(1*np.array(ci == dia_train_Y)-0.5)) / zt\n",
    "\n",
    "    print(\"iteration \", i+1, \" : \", x_bst[i], \" \", ai)"
   ]
  },
  {
   "cell_type": "markdown",
   "metadata": {
    "collapsed": false
   },
   "source": [
    "#### (5) Prediction of Adaboost"
   ]
  },
  {
   "cell_type": "code",
   "execution_count": 16,
   "metadata": {
    "collapsed": false,
    "pycharm": {
     "name": "#%%\n"
    }
   },
   "outputs": [],
   "source": [
    "cit = np.sign(1*(cit == 'pos')-0.5)"
   ]
  },
  {
   "cell_type": "code",
   "execution_count": 17,
   "metadata": {
    "collapsed": false,
    "pycharm": {
     "name": "#%%\n"
    }
   },
   "outputs": [
    {
     "name": "stdout",
     "output_type": "stream",
     "text": [
      "[[-1. -1.  1. ... -1. -1. -1.]\n",
      " [-1. -1.  1. ... -1. -1. -1.]\n",
      " [-1. -1.  1. ... -1.  1. -1.]\n",
      " ...\n",
      " [-1. -1.  1. ... -1.  1. -1.]\n",
      " [-1. -1.  1. ... -1.  1. -1.]\n",
      " [-1. -1.  1. ... -1.  1. -1.]]\n",
      "0.12\n",
      "0.12\n",
      "0.03249999999999997\n",
      "0.04749999999999999\n",
      "0.0\n",
      "0.0050000000000000044\n",
      "0.0\n",
      "0.0\n",
      "0.0\n",
      "0.0\n",
      "0.0\n",
      "0.0\n",
      "0.0\n",
      "0.0\n",
      "0.0\n",
      "0.0\n",
      "0.0\n",
      "0.0\n",
      "0.0\n",
      "0.0\n"
     ]
    }
   ],
   "source": [
    "pred = np.array([])\n",
    "for i in range(0,iter):\n",
    "    x = 0\n",
    "    for j in range(0,i+1):\n",
    "        x = x + ait[j]*cit[j,:]\n",
    "    # print(x)\n",
    "    pred = np.append(pred, x)\n",
    "\n",
    "pred = np.sign(pred.reshape(iter,-1))\n",
    "\n",
    "print(pred)\n",
    "\n",
    "y_bst = np.array([])\n",
    "dia_train_Y_tmp = np.sign(1*(dia_train_Y=='pos')-0.5)\n",
    "for i in range(0,iter):\n",
    "    x = confusion_matrix(dia_train_Y_tmp, pred[i,:])\n",
    "    print(1-np.diag(x).sum()/np.sum(x))\n",
    "    y_bst = np.append(y_bst, 1-np.diag(x).sum()/np.sum(x))\n"
   ]
  },
  {
   "cell_type": "markdown",
   "metadata": {
    "collapsed": false,
    "pycharm": {
     "name": "#%% md\n"
    }
   },
   "source": [
    "### (6) Plotting"
   ]
  },
  {
   "cell_type": "markdown",
   "metadata": {
    "collapsed": false
   },
   "source": [
    "##### - Error from each boosting iterations"
   ]
  },
  {
   "cell_type": "code",
   "execution_count": 18,
   "metadata": {
    "collapsed": false,
    "pycharm": {
     "name": "#%%\n"
    }
   },
   "outputs": [
    {
     "data": {
      "image/png": "[encoded data removed]",
      "text/plain": [
       "<Figure size 432x288 with 1 Axes>"
      ]
     },
     "metadata": {
      "needs_background": "light"
     },
     "output_type": "display_data"
    }
   ],
   "source": [
    "plt.plot(range(0,iter), x_bst)\n",
    "plt.title('Error from each boosting iterations')\n",
    "plt.show()"
   ]
  },
  {
   "cell_type": "markdown",
   "metadata": {
    "collapsed": false
   },
   "source": [
    "##### - Error arising from averaging predictions"
   ]
  },
  {
   "cell_type": "code",
   "execution_count": 19,
   "metadata": {
    "collapsed": false,
    "pycharm": {
     "name": "#%%\n"
    }
   },
   "outputs": [
    {
     "data": {
      "image/png": "[encoded data removed]",
      "text/plain": [
       "<Figure size 432x288 with 1 Axes>"
      ]
     },
     "metadata": {
      "needs_background": "light"
     },
     "output_type": "display_data"
    }
   ],
   "source": [
    "plt.plot(range(0,iter), y_bst)\n",
    "plt.title(\"Error arising from averaging predictions\")\n",
    "plt.show()"
   ]
  },
  {
   "cell_type": "markdown",
   "metadata": {
    "collapsed": false
   },
   "source": [
    "### (7) Using sklearn.ensemble package"
   ]
  },
  {
   "cell_type": "code",
   "execution_count": 20,
   "metadata": {
    "collapsed": false,
    "pycharm": {
     "name": "#%%\n"
    }
   },
   "outputs": [],
   "source": [
    "from sklearn.ensemble import AdaBoostClassifier\n",
    "\n",
    "phishing = pd.read_csv(\"phishing.csv\")\n",
    "\n",
    "# Training Test sample split(7:3 = #train:#test)\n",
    "#     return : train_X, test_X, train_Y, test_Y\n",
    "#     function : train_test_split()\n",
    "#     reference : https://scikit-learn.org/stable/modules/generated/sklearn.model_selection.train_test_split.html\n",
    "\n",
    "Mymodel = AdaBoostClassifier(n_estimators=50)\n",
    "\n",
    "# Model fitting\n",
    "#     return : fitted adaboost classifier named 'Mymodel'\n",
    "#     function : Mymodel.fit()\n",
    "#     reference : https://scikit-learn.org/stable/modules/generated/sklearn.ensemble.AdaBoostClassifier.html?highlight=adaboost#sklearn.ensemble.AdaBoostClassifier\n",
    "#               : Methods 참조\n",
    "\n",
    "# Prediction (train / test)\n",
    "#     return : train / test prediction\n",
    "#     function : Mymodel.predict()\n",
    "#     reference : https://scikit-learn.org/stable/modules/generated/sklearn.ensemble.AdaBoostClassifier.html?highlight=adaboost#sklearn.ensemble.AdaBoostClassifier\n",
    "#               : Methods 참조\n",
    "#\n",
    "#     return : confusion matrix for train / test prediction\n",
    "#     function : confusion_matrix()\n",
    "#     reference : https://scikit-learn.org/stable/modules/generated/sklearn.metrics.confusion_matrix.html?highlight=confusion_matrix#sklearn.metrics.confusion_matrix\n",
    "#\n",
    "#     final result : train / test accuracy\n"
   ]
  }
 ],
 "metadata": {
  "kernelspec": {
   "display_name": "Python 3",
   "language": "python",
   "name": "python3"
  },
  "language_info": {
   "codemirror_mode": {
    "name": "ipython",
    "version": 2
   },
   "file_extension": ".py",
   "mimetype": "text/x-python",
   "name": "python",
   "nbconvert_exporter": "python",
   "pygments_lexer": "ipython2",
   "version": "2.7.6"
  }
 },
 "nbformat": 4,
 "nbformat_minor": 0
}
